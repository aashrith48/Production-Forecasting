{
 "cells": [
  {
   "cell_type": "code",
   "execution_count": 40,
   "metadata": {},
   "outputs": [
    {
     "name": "stdout",
     "output_type": "stream",
     "text": [
      "The autoreload extension is already loaded. To reload it, use:\n",
      "  %reload_ext autoreload\n"
     ]
    }
   ],
   "source": [
    "# Jupyter commands used to auto-reload packages\n",
    "%load_ext autoreload\n",
    "%autoreload 2\n",
    "\n",
    "# Import dependencies\n",
    "import os\n",
    "import time\n",
    "import pandas as pd\n",
    "import numpy as np\n",
    "from matplotlib import pyplot as plt\n",
    "from scipy import stats\n",
    "from scipy.optimize import curve_fit, OptimizeWarning\n",
    "\n",
    "# Make plots larger\n",
    "plt.rcParams['figure.figsize'] = [10, 6]\n",
    "plt.rcParams['figure.dpi'] = 100"
   ]
  },
  {
   "cell_type": "code",
   "execution_count": 41,
   "metadata": {},
   "outputs": [],
   "source": [
    "## loading required packages  \n",
    "\n",
    "from numpy import asarray\n",
    "from pandas import read_csv\n",
    "from pandas import DataFrame\n",
    "from pandas import concat\n",
    "from sklearn.metrics import mean_absolute_error\n",
    "from sklearn.ensemble import RandomForestRegressor\n"
   ]
  },
  {
   "cell_type": "code",
   "execution_count": 42,
   "metadata": {},
   "outputs": [],
   "source": [
    "import warnings\n",
    "warnings.filterwarnings(\"ignore\")"
   ]
  },
  {
   "cell_type": "code",
   "execution_count": 43,
   "metadata": {},
   "outputs": [],
   "source": [
    "## loading the data\n",
    "ifile = 'Production.csv'\n",
    "df_prod = pd.read_csv(ifile)"
   ]
  },
  {
   "cell_type": "code",
   "execution_count": 44,
   "metadata": {},
   "outputs": [
    {
     "data": {
      "text/html": [
       "<div>\n",
       "<style scoped>\n",
       "    .dataframe tbody tr th:only-of-type {\n",
       "        vertical-align: middle;\n",
       "    }\n",
       "\n",
       "    .dataframe tbody tr th {\n",
       "        vertical-align: top;\n",
       "    }\n",
       "\n",
       "    .dataframe thead th {\n",
       "        text-align: right;\n",
       "    }\n",
       "</style>\n",
       "<table border=\"1\" class=\"dataframe\">\n",
       "  <thead>\n",
       "    <tr style=\"text-align: right;\">\n",
       "      <th></th>\n",
       "      <th>Well ID</th>\n",
       "      <th>DAYS</th>\n",
       "      <th>OIL</th>\n",
       "      <th>GAS</th>\n",
       "      <th>WATER</th>\n",
       "    </tr>\n",
       "  </thead>\n",
       "  <tbody>\n",
       "    <tr>\n",
       "      <th>0</th>\n",
       "      <td>1</td>\n",
       "      <td>0</td>\n",
       "      <td>630.868000</td>\n",
       "      <td>1157.095194</td>\n",
       "      <td>66.671992</td>\n",
       "    </tr>\n",
       "    <tr>\n",
       "      <th>1</th>\n",
       "      <td>1</td>\n",
       "      <td>31</td>\n",
       "      <td>552.874349</td>\n",
       "      <td>1444.594307</td>\n",
       "      <td>33.964977</td>\n",
       "    </tr>\n",
       "    <tr>\n",
       "      <th>2</th>\n",
       "      <td>1</td>\n",
       "      <td>61</td>\n",
       "      <td>556.648235</td>\n",
       "      <td>1160.644566</td>\n",
       "      <td>0.000000</td>\n",
       "    </tr>\n",
       "    <tr>\n",
       "      <th>3</th>\n",
       "      <td>1</td>\n",
       "      <td>92</td>\n",
       "      <td>440.915721</td>\n",
       "      <td>1238.730745</td>\n",
       "      <td>0.000000</td>\n",
       "    </tr>\n",
       "    <tr>\n",
       "      <th>4</th>\n",
       "      <td>1</td>\n",
       "      <td>122</td>\n",
       "      <td>340.278752</td>\n",
       "      <td>1029.317811</td>\n",
       "      <td>0.000000</td>\n",
       "    </tr>\n",
       "  </tbody>\n",
       "</table>\n",
       "</div>"
      ],
      "text/plain": [
       "   Well ID  DAYS         OIL          GAS      WATER\n",
       "0        1     0  630.868000  1157.095194  66.671992\n",
       "1        1    31  552.874349  1444.594307  33.964977\n",
       "2        1    61  556.648235  1160.644566   0.000000\n",
       "3        1    92  440.915721  1238.730745   0.000000\n",
       "4        1   122  340.278752  1029.317811   0.000000"
      ]
     },
     "execution_count": 44,
     "metadata": {},
     "output_type": "execute_result"
    }
   ],
   "source": [
    "df_prod.head()"
   ]
  },
  {
   "cell_type": "markdown",
   "metadata": {},
   "source": [
    "## First 8 wells\n",
    "\n",
    "#### Two different models are trained, one for the first 8 wells with available month data and another for the last 4 wells with daily production data"
   ]
  },
  {
   "cell_type": "code",
   "execution_count": 45,
   "metadata": {},
   "outputs": [],
   "source": [
    "## this function gets the historical data, ie, production data before one time step\n",
    "\n",
    "def get_history(wid, n_months, phase): ## input desired well, months for hindcast and phase\n",
    "    data=df_prod[['%s'%phase]].loc[df_prod['Well ID']==wid]   ##subsetting \n",
    "    data.reset_index(drop=True, inplace=True)\n",
    "    hist=(df_prod['%s'%phase].loc[df_prod['Well ID']==wid]).shift(1, axis=0).values\n",
    "    data['%s_hist'%phase]=hist\n",
    "    data.dropna(inplace=True)\n",
    "    train, test= data.iloc[:n_months-1,:], data.iloc[n_months-1,:]  ## train-test split\n",
    "    return train, test"
   ]
  },
  {
   "cell_type": "code",
   "execution_count": 47,
   "metadata": {},
   "outputs": [
    {
     "data": {
      "text/html": [
       "<div>\n",
       "<style scoped>\n",
       "    .dataframe tbody tr th:only-of-type {\n",
       "        vertical-align: middle;\n",
       "    }\n",
       "\n",
       "    .dataframe tbody tr th {\n",
       "        vertical-align: top;\n",
       "    }\n",
       "\n",
       "    .dataframe thead th {\n",
       "        text-align: right;\n",
       "    }\n",
       "</style>\n",
       "<table border=\"1\" class=\"dataframe\">\n",
       "  <thead>\n",
       "    <tr style=\"text-align: right;\">\n",
       "      <th></th>\n",
       "      <th>OIL</th>\n",
       "      <th>OIL_hist</th>\n",
       "    </tr>\n",
       "  </thead>\n",
       "  <tbody>\n",
       "    <tr>\n",
       "      <th>1</th>\n",
       "      <td>780.645161</td>\n",
       "      <td>37.900000</td>\n",
       "    </tr>\n",
       "    <tr>\n",
       "      <th>2</th>\n",
       "      <td>570.000000</td>\n",
       "      <td>780.645161</td>\n",
       "    </tr>\n",
       "    <tr>\n",
       "      <th>3</th>\n",
       "      <td>436.571429</td>\n",
       "      <td>570.000000</td>\n",
       "    </tr>\n",
       "    <tr>\n",
       "      <th>4</th>\n",
       "      <td>294.000000</td>\n",
       "      <td>436.571429</td>\n",
       "    </tr>\n",
       "    <tr>\n",
       "      <th>5</th>\n",
       "      <td>323.266667</td>\n",
       "      <td>294.000000</td>\n",
       "    </tr>\n",
       "  </tbody>\n",
       "</table>\n",
       "</div>"
      ],
      "text/plain": [
       "          OIL    OIL_hist\n",
       "1  780.645161   37.900000\n",
       "2  570.000000  780.645161\n",
       "3  436.571429  570.000000\n",
       "4  294.000000  436.571429\n",
       "5  323.266667  294.000000"
      ]
     },
     "execution_count": 47,
     "metadata": {},
     "output_type": "execute_result"
    }
   ],
   "source": [
    "## sample\n",
    "train, test=get_history(wid=6,n_months=18,phase='OIL')\n",
    "train.head()"
   ]
  },
  {
   "cell_type": "code",
   "execution_count": 48,
   "metadata": {},
   "outputs": [
    {
     "data": {
      "text/plain": [
       "OIL          84.677419\n",
       "OIL_hist    104.300000\n",
       "Name: 18, dtype: float64"
      ]
     },
     "execution_count": 48,
     "metadata": {},
     "output_type": "execute_result"
    }
   ],
   "source": [
    "test"
   ]
  },
  {
   "cell_type": "code",
   "execution_count": null,
   "metadata": {
    "scrolled": false
   },
   "outputs": [],
   "source": [
    "## Using a random forest regressor to forecast oil, gas and water production for 6, 12 and 18 months from their historical \n",
    "## data for the forst 8 wells\n",
    "\n",
    "well=[]\n",
    "fluid_phase=[]\n",
    "hind_rmse=[]\n",
    "\n",
    "for n_months in [6,12,18]:\n",
    "    error=[]\n",
    "    for wid in range (1,9):\n",
    "        for phase in ['OIL', 'GAS', 'WATER']:\n",
    "            well.append(wid)\n",
    "            fluid_phase.append(phase)\n",
    "            train, test=get_history(wid=wid,n_months=n_months,phase=phase)\n",
    "            trainx=train.values[:,1].reshape(len(train), 1)\n",
    "            trainy=train.values[:,0].reshape(len(train), 1)\n",
    "            testx=np.array(test.values[1]).reshape(1,1)\n",
    "            testy=np.array(test.values[0]).reshape(1,1)\n",
    "            rf=RandomForestRegressor(n_estimators=1000)\n",
    "            rf.fit(trainx, trainy)\n",
    "            yhat=rf.predict(testx)\n",
    "            rmse=np.sqrt(np.mean((testy - yhat) ** 2))\n",
    "            error.append(rmse)\n",
    "    hind_rmse.append(error)\n",
    "            \n",
    "            "
   ]
  },
  {
   "cell_type": "code",
   "execution_count": null,
   "metadata": {
    "scrolled": true
   },
   "outputs": [],
   "source": [
    "## compiling the rmse for the different scenarios\n",
    "\n",
    "df_rmse=pd.DataFrame()\n",
    "df_rmse['Well ID']=well[0:24]\n",
    "df_rmse['Phase']=fluid_phase[0:24]\n",
    "df_rmse['hind_6_months_rmse']=hind_rmse[0]\n",
    "df_rmse['hind_12_months_rmse']=hind_rmse[1]\n",
    "df_rmse['hind_18_months_rmse']=hind_rmse[2]\n"
   ]
  },
  {
   "cell_type": "code",
   "execution_count": 51,
   "metadata": {},
   "outputs": [
    {
     "data": {
      "text/html": [
       "<div>\n",
       "<style scoped>\n",
       "    .dataframe tbody tr th:only-of-type {\n",
       "        vertical-align: middle;\n",
       "    }\n",
       "\n",
       "    .dataframe tbody tr th {\n",
       "        vertical-align: top;\n",
       "    }\n",
       "\n",
       "    .dataframe thead th {\n",
       "        text-align: right;\n",
       "    }\n",
       "</style>\n",
       "<table border=\"1\" class=\"dataframe\">\n",
       "  <thead>\n",
       "    <tr style=\"text-align: right;\">\n",
       "      <th></th>\n",
       "      <th>Well ID</th>\n",
       "      <th>Phase</th>\n",
       "      <th>hind_6_months_rmse</th>\n",
       "      <th>hind_12_months_rmse</th>\n",
       "      <th>hind_18_months_rmse</th>\n",
       "      <th>Average_hind_rmse</th>\n",
       "    </tr>\n",
       "  </thead>\n",
       "  <tbody>\n",
       "    <tr>\n",
       "      <th>0</th>\n",
       "      <td>1</td>\n",
       "      <td>OIL</td>\n",
       "      <td>75.076437</td>\n",
       "      <td>86.525150</td>\n",
       "      <td>20.533087</td>\n",
       "      <td>60.711558</td>\n",
       "    </tr>\n",
       "    <tr>\n",
       "      <th>1</th>\n",
       "      <td>1</td>\n",
       "      <td>GAS</td>\n",
       "      <td>100.787960</td>\n",
       "      <td>222.602399</td>\n",
       "      <td>80.254845</td>\n",
       "      <td>134.548401</td>\n",
       "    </tr>\n",
       "    <tr>\n",
       "      <th>2</th>\n",
       "      <td>1</td>\n",
       "      <td>WATER</td>\n",
       "      <td>0.000000</td>\n",
       "      <td>11.950640</td>\n",
       "      <td>16.696635</td>\n",
       "      <td>9.549092</td>\n",
       "    </tr>\n",
       "    <tr>\n",
       "      <th>3</th>\n",
       "      <td>2</td>\n",
       "      <td>OIL</td>\n",
       "      <td>55.177363</td>\n",
       "      <td>17.905833</td>\n",
       "      <td>1.649417</td>\n",
       "      <td>24.910871</td>\n",
       "    </tr>\n",
       "    <tr>\n",
       "      <th>4</th>\n",
       "      <td>2</td>\n",
       "      <td>GAS</td>\n",
       "      <td>2.970824</td>\n",
       "      <td>9.676925</td>\n",
       "      <td>1.181115</td>\n",
       "      <td>4.609622</td>\n",
       "    </tr>\n",
       "  </tbody>\n",
       "</table>\n",
       "</div>"
      ],
      "text/plain": [
       "   Well ID  Phase  hind_6_months_rmse  hind_12_months_rmse  \\\n",
       "0        1    OIL           75.076437            86.525150   \n",
       "1        1    GAS          100.787960           222.602399   \n",
       "2        1  WATER            0.000000            11.950640   \n",
       "3        2    OIL           55.177363            17.905833   \n",
       "4        2    GAS            2.970824             9.676925   \n",
       "\n",
       "   hind_18_months_rmse  Average_hind_rmse  \n",
       "0            20.533087          60.711558  \n",
       "1            80.254845         134.548401  \n",
       "2            16.696635           9.549092  \n",
       "3             1.649417          24.910871  \n",
       "4             1.181115           4.609622  "
      ]
     },
     "execution_count": 51,
     "metadata": {},
     "output_type": "execute_result"
    }
   ],
   "source": [
    "df_rmse['Average_hind_rmse'] = df_rmse.iloc[:, 2:].mean(axis=1) ##getting avg rmse\n",
    "df_rmse.head()"
   ]
  },
  {
   "cell_type": "code",
   "execution_count": 52,
   "metadata": {},
   "outputs": [],
   "source": [
    "df_rmse.to_pickle('rmse_8_wells.p') ##saving the result for 8 wells \n"
   ]
  },
  {
   "cell_type": "code",
   "execution_count": 76,
   "metadata": {},
   "outputs": [
    {
     "data": {
      "text/html": [
       "<div>\n",
       "<style scoped>\n",
       "    .dataframe tbody tr th:only-of-type {\n",
       "        vertical-align: middle;\n",
       "    }\n",
       "\n",
       "    .dataframe tbody tr th {\n",
       "        vertical-align: top;\n",
       "    }\n",
       "\n",
       "    .dataframe thead th {\n",
       "        text-align: right;\n",
       "    }\n",
       "</style>\n",
       "<table border=\"1\" class=\"dataframe\">\n",
       "  <thead>\n",
       "    <tr style=\"text-align: right;\">\n",
       "      <th></th>\n",
       "      <th>Well ID</th>\n",
       "      <th>Phase</th>\n",
       "      <th>hind_6_months_rmse</th>\n",
       "      <th>hind_12_months_rmse</th>\n",
       "      <th>hind_18_months_rmse</th>\n",
       "      <th>Average_hind_rmse</th>\n",
       "    </tr>\n",
       "  </thead>\n",
       "  <tbody>\n",
       "    <tr>\n",
       "      <th>0</th>\n",
       "      <td>1</td>\n",
       "      <td>OIL</td>\n",
       "      <td>75.076437</td>\n",
       "      <td>86.525150</td>\n",
       "      <td>20.533087</td>\n",
       "      <td>60.711558</td>\n",
       "    </tr>\n",
       "    <tr>\n",
       "      <th>1</th>\n",
       "      <td>1</td>\n",
       "      <td>GAS</td>\n",
       "      <td>100.787960</td>\n",
       "      <td>222.602399</td>\n",
       "      <td>80.254845</td>\n",
       "      <td>134.548401</td>\n",
       "    </tr>\n",
       "    <tr>\n",
       "      <th>2</th>\n",
       "      <td>1</td>\n",
       "      <td>WATER</td>\n",
       "      <td>0.000000</td>\n",
       "      <td>11.950640</td>\n",
       "      <td>16.696635</td>\n",
       "      <td>9.549092</td>\n",
       "    </tr>\n",
       "    <tr>\n",
       "      <th>3</th>\n",
       "      <td>2</td>\n",
       "      <td>OIL</td>\n",
       "      <td>55.177363</td>\n",
       "      <td>17.905833</td>\n",
       "      <td>1.649417</td>\n",
       "      <td>24.910871</td>\n",
       "    </tr>\n",
       "    <tr>\n",
       "      <th>4</th>\n",
       "      <td>2</td>\n",
       "      <td>GAS</td>\n",
       "      <td>2.970824</td>\n",
       "      <td>9.676925</td>\n",
       "      <td>1.181115</td>\n",
       "      <td>4.609622</td>\n",
       "    </tr>\n",
       "  </tbody>\n",
       "</table>\n",
       "</div>"
      ],
      "text/plain": [
       "   Well ID  Phase  hind_6_months_rmse  hind_12_months_rmse  \\\n",
       "0        1    OIL           75.076437            86.525150   \n",
       "1        1    GAS          100.787960           222.602399   \n",
       "2        1  WATER            0.000000            11.950640   \n",
       "3        2    OIL           55.177363            17.905833   \n",
       "4        2    GAS            2.970824             9.676925   \n",
       "\n",
       "   hind_18_months_rmse  Average_hind_rmse  \n",
       "0            20.533087          60.711558  \n",
       "1            80.254845         134.548401  \n",
       "2            16.696635           9.549092  \n",
       "3             1.649417          24.910871  \n",
       "4             1.181115           4.609622  "
      ]
     },
     "execution_count": 76,
     "metadata": {},
     "output_type": "execute_result"
    }
   ],
   "source": [
    "df_rmse_8 = pd.read_pickle('rmse_8_wells.p')\n",
    "df_rmse_8.head()"
   ]
  },
  {
   "cell_type": "code",
   "execution_count": 81,
   "metadata": {
    "scrolled": false
   },
   "outputs": [],
   "source": [
    "df_arps=pd.read_pickle('rmse_arps.p')\n",
    "df_arps_8=df_arps.loc[df_arps['Well ID']<9]"
   ]
  },
  {
   "cell_type": "code",
   "execution_count": 86,
   "metadata": {},
   "outputs": [
    {
     "data": {
      "text/plain": [
       "<matplotlib.legend.Legend at 0x1b0fd85eac8>"
      ]
     },
     "execution_count": 86,
     "metadata": {},
     "output_type": "execute_result"
    },
    {
     "data": {
      "image/png": "[encoded data removed]",
      "text/plain": [
       "<Figure size 800x500 with 1 Axes>"
      ]
     },
     "metadata": {
      "needs_background": "light"
     },
     "output_type": "display_data"
    }
   ],
   "source": [
    "phase='OIL' ## try other phases here\n",
    "\n",
    "plt.figure(figsize=[8,5])\n",
    "x=np.unique(df_rmse_8['Well ID'])\n",
    "y1=df_arps_8['Average_hind_rmse'].loc[df_arps_8['Phase']==phase]\n",
    "y2=df_rmse_8['Average_hind_rmse'].loc[df_rmse_8['Phase']==phase]\n",
    "plt.scatter(x, y1, c='g')\n",
    "plt.scatter(x, y2, c='r')\n",
    "plt.xlabel('Well ID')\n",
    "plt.ylabel('Avg hind RMSE')\n",
    "plt.legend(['Arps model', 'Data-driven model'], loc='upper right')"
   ]
  },
  {
   "cell_type": "markdown",
   "metadata": {},
   "source": [
    "## prediction for last 4 wells\n",
    "\n",
    "#### Repeating the above process for the last 4 wells with daily production. The daily production of the last month is predicted "
   ]
  },
  {
   "cell_type": "code",
   "execution_count": 65,
   "metadata": {},
   "outputs": [],
   "source": [
    "def get_history(wid, n_days, phase):\n",
    "    data=df_prod[['DAYS','%s'%phase]].loc[df_prod['Well ID']==wid]\n",
    "    data.reset_index(drop=True, inplace=True)\n",
    "    hist=(df_prod['%s'%phase].loc[df_prod['Well ID']==wid]).shift(1, axis=0).values\n",
    "    data['%s_hist'%phase]=hist\n",
    "    data.dropna(inplace=True)\n",
    "    #print(data)\n",
    "    train, test= data.iloc[:n_days-1,:], data.iloc[n_days-1:n_days+30,:]\n",
    "    return train, test"
   ]
  },
  {
   "cell_type": "code",
   "execution_count": 12,
   "metadata": {},
   "outputs": [],
   "source": [
    "train, test= get_history(wid=10, n_days=5*30, phase='OIL')"
   ]
  },
  {
   "cell_type": "code",
   "execution_count": 102,
   "metadata": {
    "scrolled": true
   },
   "outputs": [],
   "source": [
    "## this cell takes time to run\n",
    "\n",
    "well=[]\n",
    "fluid_phase=[]\n",
    "hind_rmse=[]\n",
    "\n",
    "month=30\n",
    "for n_days in [5*month,11*month,17*month]:\n",
    "    error=[]\n",
    "    for wid in range (9,13):\n",
    "        for phase in ['OIL', 'GAS', 'WATER']:\n",
    "            well.append(wid)\n",
    "            fluid_phase.append(phase)\n",
    "            train, test=get_history(wid=wid,n_days=n_days,phase=phase)\n",
    "            trainx=train.values[:,2].reshape(len(train), 1)\n",
    "            trainy=train.values[:,2].reshape(len(train), 1)\n",
    "            testx=test.values[:,2].reshape(len(test), 1)\n",
    "            testy=test.values[:,2].reshape(len(test), 1)\n",
    "            rf=RandomForestRegressor(n_estimators=1000)\n",
    "            rf.fit(trainx, trainy)\n",
    "            yhat=rf.predict(testx)\n",
    "            rmse=np.sqrt(np.mean((testy - yhat) ** 2))\n",
    "            error.append(rmse)   \n",
    "    hind_rmse.append(error)\n",
    "            "
   ]
  },
  {
   "cell_type": "code",
   "execution_count": 103,
   "metadata": {},
   "outputs": [
    {
     "data": {
      "text/html": [
       "<div>\n",
       "<style scoped>\n",
       "    .dataframe tbody tr th:only-of-type {\n",
       "        vertical-align: middle;\n",
       "    }\n",
       "\n",
       "    .dataframe tbody tr th {\n",
       "        vertical-align: top;\n",
       "    }\n",
       "\n",
       "    .dataframe thead th {\n",
       "        text-align: right;\n",
       "    }\n",
       "</style>\n",
       "<table border=\"1\" class=\"dataframe\">\n",
       "  <thead>\n",
       "    <tr style=\"text-align: right;\">\n",
       "      <th></th>\n",
       "      <th>Well ID</th>\n",
       "      <th>Phase</th>\n",
       "      <th>hind_6_months_rmse</th>\n",
       "      <th>hind_12_months_rmse</th>\n",
       "      <th>hind_18_months_rmse</th>\n",
       "    </tr>\n",
       "  </thead>\n",
       "  <tbody>\n",
       "    <tr>\n",
       "      <th>0</th>\n",
       "      <td>9</td>\n",
       "      <td>OIL</td>\n",
       "      <td>52.077947</td>\n",
       "      <td>20.833908</td>\n",
       "      <td>10.440417</td>\n",
       "    </tr>\n",
       "    <tr>\n",
       "      <th>1</th>\n",
       "      <td>9</td>\n",
       "      <td>GAS</td>\n",
       "      <td>669.581906</td>\n",
       "      <td>162.111506</td>\n",
       "      <td>136.626461</td>\n",
       "    </tr>\n",
       "    <tr>\n",
       "      <th>2</th>\n",
       "      <td>9</td>\n",
       "      <td>WATER</td>\n",
       "      <td>79.794458</td>\n",
       "      <td>20.014697</td>\n",
       "      <td>23.336385</td>\n",
       "    </tr>\n",
       "    <tr>\n",
       "      <th>3</th>\n",
       "      <td>10</td>\n",
       "      <td>OIL</td>\n",
       "      <td>19.733429</td>\n",
       "      <td>20.137419</td>\n",
       "      <td>2.273938</td>\n",
       "    </tr>\n",
       "    <tr>\n",
       "      <th>4</th>\n",
       "      <td>10</td>\n",
       "      <td>GAS</td>\n",
       "      <td>312.857695</td>\n",
       "      <td>337.119105</td>\n",
       "      <td>89.783120</td>\n",
       "    </tr>\n",
       "  </tbody>\n",
       "</table>\n",
       "</div>"
      ],
      "text/plain": [
       "   Well ID  Phase  hind_6_months_rmse  hind_12_months_rmse  \\\n",
       "0        9    OIL           52.077947            20.833908   \n",
       "1        9    GAS          669.581906           162.111506   \n",
       "2        9  WATER           79.794458            20.014697   \n",
       "3       10    OIL           19.733429            20.137419   \n",
       "4       10    GAS          312.857695           337.119105   \n",
       "\n",
       "   hind_18_months_rmse  \n",
       "0            10.440417  \n",
       "1           136.626461  \n",
       "2            23.336385  \n",
       "3             2.273938  \n",
       "4            89.783120  "
      ]
     },
     "execution_count": 103,
     "metadata": {},
     "output_type": "execute_result"
    }
   ],
   "source": [
    "df_rmse=pd.DataFrame()\n",
    "df_rmse['Well ID']=well[0:12]\n",
    "df_rmse['Phase']=fluid_phase[0:12]\n",
    "df_rmse['hind_6_months_rmse']=hind_rmse[0]\n",
    "df_rmse['hind_12_months_rmse']=hind_rmse[1]\n",
    "df_rmse['hind_18_months_rmse']=hind_rmse[2]\n",
    "df_rmse.head()"
   ]
  },
  {
   "cell_type": "code",
   "execution_count": 109,
   "metadata": {},
   "outputs": [
    {
     "data": {
      "text/html": [
       "<div>\n",
       "<style scoped>\n",
       "    .dataframe tbody tr th:only-of-type {\n",
       "        vertical-align: middle;\n",
       "    }\n",
       "\n",
       "    .dataframe tbody tr th {\n",
       "        vertical-align: top;\n",
       "    }\n",
       "\n",
       "    .dataframe thead th {\n",
       "        text-align: right;\n",
       "    }\n",
       "</style>\n",
       "<table border=\"1\" class=\"dataframe\">\n",
       "  <thead>\n",
       "    <tr style=\"text-align: right;\">\n",
       "      <th></th>\n",
       "      <th>Well ID</th>\n",
       "      <th>Phase</th>\n",
       "      <th>hind_6_months_rmse</th>\n",
       "      <th>hind_12_months_rmse</th>\n",
       "      <th>hind_18_months_rmse</th>\n",
       "      <th>Average_hind_rmse</th>\n",
       "    </tr>\n",
       "  </thead>\n",
       "  <tbody>\n",
       "    <tr>\n",
       "      <th>0</th>\n",
       "      <td>9</td>\n",
       "      <td>OIL</td>\n",
       "      <td>52.077947</td>\n",
       "      <td>20.833908</td>\n",
       "      <td>10.440417</td>\n",
       "      <td>27.784091</td>\n",
       "    </tr>\n",
       "    <tr>\n",
       "      <th>1</th>\n",
       "      <td>9</td>\n",
       "      <td>GAS</td>\n",
       "      <td>669.581906</td>\n",
       "      <td>162.111506</td>\n",
       "      <td>136.626461</td>\n",
       "      <td>322.773291</td>\n",
       "    </tr>\n",
       "    <tr>\n",
       "      <th>2</th>\n",
       "      <td>9</td>\n",
       "      <td>WATER</td>\n",
       "      <td>79.794458</td>\n",
       "      <td>20.014697</td>\n",
       "      <td>23.336385</td>\n",
       "      <td>41.048513</td>\n",
       "    </tr>\n",
       "    <tr>\n",
       "      <th>3</th>\n",
       "      <td>10</td>\n",
       "      <td>OIL</td>\n",
       "      <td>19.733429</td>\n",
       "      <td>20.137419</td>\n",
       "      <td>2.273938</td>\n",
       "      <td>14.048262</td>\n",
       "    </tr>\n",
       "    <tr>\n",
       "      <th>4</th>\n",
       "      <td>10</td>\n",
       "      <td>GAS</td>\n",
       "      <td>312.857695</td>\n",
       "      <td>337.119105</td>\n",
       "      <td>89.783120</td>\n",
       "      <td>246.586640</td>\n",
       "    </tr>\n",
       "  </tbody>\n",
       "</table>\n",
       "</div>"
      ],
      "text/plain": [
       "   Well ID  Phase  hind_6_months_rmse  hind_12_months_rmse  \\\n",
       "0        9    OIL           52.077947            20.833908   \n",
       "1        9    GAS          669.581906           162.111506   \n",
       "2        9  WATER           79.794458            20.014697   \n",
       "3       10    OIL           19.733429            20.137419   \n",
       "4       10    GAS          312.857695           337.119105   \n",
       "\n",
       "   hind_18_months_rmse  Average_hind_rmse  \n",
       "0            10.440417          27.784091  \n",
       "1           136.626461         322.773291  \n",
       "2            23.336385          41.048513  \n",
       "3             2.273938          14.048262  \n",
       "4            89.783120         246.586640  "
      ]
     },
     "execution_count": 109,
     "metadata": {},
     "output_type": "execute_result"
    }
   ],
   "source": [
    "df_rmse['Average_hind_rmse'] = df_rmse.iloc[:, 2:].mean(axis=1) ##getting avg rmse\n",
    "df_rmse.head()"
   ]
  },
  {
   "cell_type": "code",
   "execution_count": 105,
   "metadata": {},
   "outputs": [],
   "source": [
    "df_rmse.to_pickle('rmse_4_wells.p') ##saving the result for 4 wells "
   ]
  },
  {
   "cell_type": "code",
   "execution_count": 106,
   "metadata": {},
   "outputs": [],
   "source": [
    "df_rmse_4=pd.read_pickle('rmse_4_wells.p')\n",
    "df_arps_4=df_arps.loc[df_arps['Well ID']>=9]"
   ]
  },
  {
   "cell_type": "code",
   "execution_count": 110,
   "metadata": {},
   "outputs": [
    {
     "data": {
      "text/plain": [
       "<matplotlib.legend.Legend at 0x1b0fe2c6668>"
      ]
     },
     "execution_count": 110,
     "metadata": {},
     "output_type": "execute_result"
    },
    {
     "data": {
      "image/png": "[encoded data removed]",
      "text/plain": [
       "<Figure size 800x500 with 1 Axes>"
      ]
     },
     "metadata": {
      "needs_background": "light"
     },
     "output_type": "display_data"
    }
   ],
   "source": [
    "phase='GAS' ## test other phases here\n",
    "\n",
    "plt.figure(figsize=[8,5])\n",
    "x=np.unique(df_rmse_4['Well ID'])\n",
    "y1=df_arps_4['Average_hind_rmse'].loc[df_arps_4['Phase']==phase]\n",
    "y2=df_rmse_4['Average_hind_rmse'].loc[df_rmse_4['Phase']==phase]\n",
    "plt.scatter(x, y1, c='g')\n",
    "plt.scatter(x, y2, c='r')\n",
    "plt.xlabel('Well ID')\n",
    "plt.xticks(np.arange(9,13,step=1))\n",
    "plt.ylabel('Avg hind RMSE')\n",
    "plt.legend(['Arps model', 'Data-driven model'], loc='upper right')"
   ]
  },
  {
   "cell_type": "code",
   "execution_count": 16,
   "metadata": {},
   "outputs": [],
   "source": [
    "## demo of well 10 oil phase using Random Forest\n",
    "\n",
    "phase ='OIL'\n",
    "\n",
    "def show_fit(t, q, yhat,wid):\n",
    "    plt.figure(figsize=[6,4])\n",
    "    if phase == 'OIL':\n",
    "        color = 'g'\n",
    "    elif phase == 'GAS':\n",
    "        color = 'r'\n",
    "    elif phase == 'WATER':\n",
    "        color = 'b'\n",
    "    plt.plot(t, q, color=color, linestyle='dotted')\n",
    "    plt.plot(t, yhat, color=color, linestyle='solid')\n",
    "    plt.xlabel('Time (Days)')\n",
    "    plt.ylabel('Rates')\n",
    "    plt.title('well_%s'%wid)\n",
    "    plt.show()"
   ]
  },
  {
   "cell_type": "code",
   "execution_count": 17,
   "metadata": {},
   "outputs": [
    {
     "data": {
      "image/png": "[encoded data removed]",
      "text/plain": [
       "<Figure size 600x400 with 1 Axes>"
      ]
     },
     "metadata": {
      "needs_background": "light"
     },
     "output_type": "display_data"
    }
   ],
   "source": [
    "show_fit(t, q, yhat, 10)"
   ]
  },
  {
   "cell_type": "code",
   "execution_count": null,
   "metadata": {},
   "outputs": [],
   "source": []
  }
 ],
 "metadata": {
  "kernelspec": {
   "display_name": "Python 3",
   "language": "python",
   "name": "python3"
  },
  "language_info": {
   "codemirror_mode": {
    "name": "ipython",
    "version": 3
   },
   "file_extension": ".py",
   "mimetype": "text/x-python",
   "name": "python",
   "nbconvert_exporter": "python",
   "pygments_lexer": "ipython3",
   "version": "3.7.1"
  }
 },
 "nbformat": 4,
 "nbformat_minor": 4
}
